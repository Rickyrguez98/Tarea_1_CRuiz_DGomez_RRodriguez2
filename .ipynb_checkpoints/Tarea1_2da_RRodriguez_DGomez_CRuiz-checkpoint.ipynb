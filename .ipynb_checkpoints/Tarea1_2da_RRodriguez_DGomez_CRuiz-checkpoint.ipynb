{
 "cells": [
  {
   "cell_type": "markdown",
   "metadata": {},
   "source": []
  },
  {
   "cell_type": "markdown",
   "metadata": {},
   "source": []
  },
  {
   "cell_type": "markdown",
   "metadata": {},
   "source": [
    "\n",
    "   <span style=\"color:skyblue\">Kemna y Vorst (1990)</span>  muestran que las opciones asiáticas con media geométrica continua se pueden valuar con el mismo enfoque de las opciones *plain vanilla*; solo se deben cambiar los parámetros de volatilidad $\\sigma$ por $\\sigma_{a}$ , y el costo de acarrero *b* por $b_A$.\n",
    "\n",
    "De acuerdo con Kemna y Vorst, las formulas para valuar una opción de compra y una opción de venta son:\n",
    "$$ c \\approx S_t e^{(b_A-r)(T-t)}\\phi(d_1)-Ke^{-r(T-t)}\\phi(d_2),$$\n",
    "\n",
    "$$ p \\approx Ke^{(T-t)}\\phi(-d_2)-S_te^{(b_A-r)(T-t)}\\phi(-d_1).$$\n",
    "con *$d_1$* y *$d_2$* dados por:\n",
    "$$d_1 = \\frac{ln(S_t/K)+(b_A+1/2\\sigma^2_a)(T-t)}{\\sigma \\sqrt{T-t}},$$\n",
    "$$d_2 = d_1-\\sigma_a\\sqrt{T-t}$$\n",
    "La función $\\sigma$(d) es la función de distribución acumulada de E~N(0,1). La volatilidad ajustada es igual a:\n",
    "$$\\sigma_a=\\frac{\\sigma}{\\sqrt{3}},$$\n",
    "mientras que el costo de acarreo ajustado es:\n",
    "$$b_A= \\frac{1}{2}(v-\\frac{\\sigma^2}{6}).$$"
   ]
  }
 ],
 "metadata": {
  "kernelspec": {
   "display_name": "Python 3",
   "language": "python",
   "name": "python3"
  },
  "language_info": {
   "codemirror_mode": {
    "name": "ipython",
    "version": 3
   },
   "file_extension": ".py",
   "mimetype": "text/x-python",
   "name": "python",
   "nbconvert_exporter": "python",
   "pygments_lexer": "ipython3",
   "version": "3.8.3"
  }
 },
 "nbformat": 4,
 "nbformat_minor": 4
}
