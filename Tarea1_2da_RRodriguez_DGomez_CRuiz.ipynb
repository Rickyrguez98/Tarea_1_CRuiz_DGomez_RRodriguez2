{
 "cells": [
  {
   "cell_type": "markdown",
   "metadata": {},
   "source": [
    "# Tarea 1 - Proyecto conjunto Github y resumen python\n",
    "### Doris Gómez Contreras\n",
    "### Carlos Enrique Ruiz Moreno\n",
    "### Ricardo Rodriguez Salcedo\n",
    "Expectativas del curso.\n",
    "<p align = \"justify\"> Nuestras expectativas para el curso de Simulación de procesos financieros es que logremos aprender las técnicas de programación en Python para lograr simular varios procesos dentro de negocio o en la Bolsa. Nos gustaría poder seguir avanzando en nuestras técnicas y habilidades para la programación, ya que sabemos que si estas técnicas se aprenden correctamente pueden representar una gran ventaja a la hora de buscar trabajo. <p align = \"justify\">\n",
    "\n",
    "<p align = \"justify\"> Esperamos que al finalizar este curso hayamos comprendido todas las simulaciones con las que trabajemos en esta clase y las sepamos aplicar correctamente en otros proyectos o trabajos que tengamos. También esperamos que la modalidad de clase en linea no dificulte nuestro proceso de aprendizaje y que no nos desmotive a estudiar una materia que al parecer será algo pesada.\n",
    "-----------\n",
    "\n",
    "Resumen Documento economist 1\n",
    "La noticia de la página web \"The Economist\" nos habla acerca de como el lenguaje de programación Python se ha ido convirtiendo en uno de los más populares y más usados dentro de la comunidad que se dedica a programar, ya sea por profesión, educación o simplemente diversión.\n",
    "\n",
    "Su creador, Guido Van Rossum quien es un científico de computadoras holandés, comenta que el jamás llego a imaginarse que su lenguaje de programación fuera a llegar a las masas cuando lo creó tres décadas atrás. Sin embargo, hoy en día, Python es uno de los lenguajes más usado en el mundo, logrando parase a la par de otros lenguajes como C, C++, Java o JavaScript.\n",
    "\n",
    "Las dos grandes ventajas del lenguaje es su simplicidad y felixibilidad, es bastante facil de aprender para quienes se van inicando en el mundo de la programación. Sus usuarios profesionales, conocidos como Pythonistas, han subido a la nube más de 145,000 paquetes de software a un repositorio online. Los programas creados van desde desarrollo de videojuegos hasta astronomía.\n",
    "\n",
    "Esta gran versatilidad con la que cuenta el lenguaje ha hecho que grandes empresas y organizaciones tales como la CIA, Google, Pixar y Spotify lo utilicen para crear contenido.\n"
   ]
  },
  {
   "cell_type": "markdown",
   "metadata": {},
   "source": []
  },
  {
   "cell_type": "markdown",
   "metadata": {},
   "source": [
    "\n",
    "\n",
    "| i | x    | f(x)   |\n",
    "|---|------|--------|\n",
    "| 0 | -1   | 0.3678 |\n",
    "| <font color=red>1 |<font color=red> -0.5 |<font color=red> 0.7788 |\n",
    "| <font color=blue>2 |<font color=blue> 0    | <font color=blue> 1      |\n",
    "| <font color=red>3 |<font color=red> 0.5  |<font color=red> 0.7788 |\n",
    "| 4 | 1    | 0.3678 |\n",
    "\n",
    "                                            Cuadro 1 : Tabla de valores de f(x)\n",
    "    \n",
    "\n",
    "$$ \\int_{-1}^{1} e^{-x^2} dx \\approx \\frac{0,5}{3}[f(-1)+f(1)+4( \\color{red}{f(-0,5)+f(0,5)})+2f(0)]$$\n",
    "           $$ \\qquad\\qquad\\qquad\\qquad\\approx \\frac{0,5}{3}[0,3678 + 0,3678 + 4(\\color{red}{0,7788 + 0,7788})+2\\centerdot1] \\approx 1,4943 $$\n",
    "    \n",
    "$\\quad$$\\qquad$$\\quad$ $\\text{A modo de verificación, se calculará por software, el vaor del área para n=100, un valor mucho }$\n",
    "    \n",
    "$\\quad$$\\qquad$$\\text{más elevado al que se utilizó anteriormente. Si lo calculado anteriormente es corecto, se esperaría que }$\n",
    "    \n",
    "$\\quad$$\\qquad$$\\text{sea próximo al valor presentado a continuación para ser una buena aproximación. }$\n",
    "    \n",
    "$$ \\int_{-1}^{1} e^{-x^2} dx \\approx 1,4936$$\n",
    "\n",
    "\n",
    "\n",
    "\n",
    "|     i               | 1   | 2   | 3   | 4   | 5 | 6 | 7  |\n",
    "|---------------------|-----|-----|-----|-----|---|---|----|\n",
    "| $E_{1}(V)$ | 12     | 10  | 24  | 12  | -   | - | - |\n",
    "| $r_{i}(\\Omega)$     | 0.1 | 0.5 | 0.2 | 0.5 | - | - | -  |\n",
    "| $R_{i}(\\Omega)$     | 25  | 10  | 16  | 20  | 9 | 4 | 20 |\n",
    "    "
   ]
  },
  {
   "cell_type": "markdown",
   "metadata": {},
   "source": []
  },
  {
   "cell_type": "markdown",
   "metadata": {},
   "source": [
    "\n",
    "   <span style=\"color:skyblue\">Kemna y Vorst (1990)</span>  muestran que las opciones asiáticas con media geométrica continua se pueden valuar con el mismo enfoque de las opciones *plain vanilla*; solo se deben cambiar los parámetros de volatilidad $\\sigma$ por $\\sigma_{a}$ , y el costo de acarrero *b* por $b_A$.\n",
    "\n",
    "De acuerdo con Kemna y Vorst, las formulas para valuar una opción de compra y una opción de venta son:\n",
    "$$ c \\approx S_t e^{(b_A-r)(T-t)}\\phi(d_1)-Ke^{-r(T-t)}\\phi(d_2),$$\n",
    "\n",
    "$$ p \\approx Ke^{(T-t)}\\phi(-d_2)-S_te^{(b_A-r)(T-t)}\\phi(-d_1).$$\n",
    "con *$d_1$* y *$d_2$* dados por:\n",
    "$$d_1 = \\frac{ln(S_t/K)+(b_A+1/2\\sigma^2_a)(T-t)}{\\sigma \\sqrt{T-t}},$$\n",
    "$$d_2 = d_1-\\sigma_a\\sqrt{T-t}$$\n",
    "La función $\\sigma$(d) es la función de distribución acumulada de E~N(0,1). La volatilidad ajustada es igual a:\n",
    "$$\\sigma_a=\\frac{\\sigma}{\\sqrt{3}},$$\n",
    "mientras que el costo de acarreo ajustado es:\n",
    "$$b_A= \\frac{1}{2}(v-\\frac{\\sigma^2}{6}).$$"
   ]
  }
 ],
 "metadata": {
  "kernelspec": {
   "display_name": "Python 3",
   "language": "python",
   "name": "python3"
  },
  "language_info": {
   "codemirror_mode": {
    "name": "ipython",
    "version": 3
   },
   "file_extension": ".py",
   "mimetype": "text/x-python",
   "name": "python",
   "nbconvert_exporter": "python",
   "pygments_lexer": "ipython3",
   "version": "3.8.3"
  }
 },
 "nbformat": 4,
 "nbformat_minor": 4
}
